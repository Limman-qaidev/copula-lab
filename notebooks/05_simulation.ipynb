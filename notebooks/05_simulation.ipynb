{
 "cells": [
  {
   "cell_type": "markdown",
   "id": "4269b36c",
   "metadata": {},
   "source": [
    "# 05 — Simulation & Reproducibility Diagnostics\n",
    "\n",
    "This notebook analyzes two chapters:\n",
    "1. **Simulation of Random Variates from Copulas** (`01_random_variates.md`)\n",
    "2. **Reproducibility, Random Seeds, and Statistical Validation** (`02_seeds_reproducibility.md`)\n"
   ]
  },
  {
   "cell_type": "markdown",
   "id": "8b0400ac",
   "metadata": {},
   "source": [
    "## 1. Setup"
   ]
  },
  {
   "cell_type": "code",
   "execution_count": 1,
   "id": "16dceb1f",
   "metadata": {},
   "outputs": [],
   "source": [
    "\n",
    "import os\n",
    "from pathlib import Path\n",
    "import numpy as np\n",
    "import matplotlib.pyplot as plt\n",
    "from scipy.stats import norm, t as student_t\n",
    "\n",
    "ROOT = Path.cwd().parent  # notebooks/ -> repo root\n",
    "FIG_DIR = ROOT / \"docs\" / \"assets\" / \"figures\" / \"05_simulation\"\n",
    "FIG_DIR.mkdir(parents=True, exist_ok=True)\n",
    "\n",
    "def savefig(path, **kwargs):\n",
    "    path = Path(path)\n",
    "    path.parent.mkdir(parents=True, exist_ok=True)\n",
    "    plt.tight_layout()\n",
    "    plt.savefig(path, bbox_inches=\"tight\", **kwargs)\n",
    "    plt.close()\n",
    "\n",
    "def sample_gaussian_copula(n=10_000, rho=0.6, seed=None):\n",
    "    rng = np.random.default_rng(seed)\n",
    "    cov = np.array([[1.0, rho], [rho, 1.0]])\n",
    "    L = np.linalg.cholesky(cov)\n",
    "    z = rng.standard_normal(size=(n, 2)) @ L.T\n",
    "    return norm.cdf(z)\n",
    "\n",
    "def sample_t_copula(n=10_000, rho=0.6, nu=5, seed=None):\n",
    "    rng = np.random.default_rng(seed)\n",
    "    cov = np.array([[1.0, rho], [rho, 1.0]])\n",
    "    L = np.linalg.cholesky(cov)\n",
    "    z = rng.standard_normal(size=(n, 2)) @ L.T\n",
    "    g = rng.chisquare(df=nu, size=(n, 1))\n",
    "    t_z = z / np.sqrt(g / nu)\n",
    "    return student_t.cdf(t_z, df=nu)\n",
    "\n",
    "def sample_clayton_copula(n=10_000, theta=2.0, seed=None):\n",
    "    rng = np.random.default_rng(seed)\n",
    "    S = rng.gamma(shape=1.0/theta, scale=1.0, size=n)\n",
    "    E1 = rng.exponential(size=n); E2 = rng.exponential(size=n)\n",
    "    U1 = (1.0 + E1 / S) ** (-1.0/theta)\n",
    "    U2 = (1.0 + E2 / S) ** (-1.0/theta)\n",
    "    return np.column_stack([U1, U2])\n",
    "\n",
    "def sample_gumbel_copula(n=10_000, theta=1.6, seed=None):\n",
    "    rng = np.random.default_rng(seed)\n",
    "    alpha = 1.0/theta\n",
    "    V = rng.uniform(low=-np.pi/2, high=np.pi/2, size=n)\n",
    "    W = rng.exponential(size=n)\n",
    "    S = (np.sin(alpha*(V+np.pi/2)) / (np.cos(V)**(1/alpha))) *         (np.cos(V - alpha*(V+np.pi/2)) / W) ** ((1-alpha)/alpha)\n",
    "    E1 = rng.exponential(size=n); E2 = rng.exponential(size=n)\n",
    "    U1 = np.exp(-(E1 / S) ** (1.0/theta))\n",
    "    U2 = np.exp(-(E2 / S) ** (1.0/theta))\n",
    "    return np.column_stack([U1, U2])\n",
    "\n",
    "def sample_frank_copula(n=10_000, theta=8.0, seed=None):\n",
    "    rng = np.random.default_rng(seed)\n",
    "    U = rng.uniform(size=n); V = rng.uniform(size=n)\n",
    "    W = rng.exponential(size=n)\n",
    "    U1 = -np.log(1 + np.exp(-theta*U) * (np.exp(-theta*W) - 1.0)) / theta\n",
    "    U2 = -np.log(1 + np.exp(-theta*V) * (np.exp(-theta*W) - 1.0)) / theta\n",
    "    return np.column_stack([U1, U2])\n",
    "\n",
    "def empirical_tail_dependence(U, side=\"upper\", grid=40):\n",
    "    u = np.linspace(0.90, 0.995, grid) if side==\"upper\" else np.linspace(0.005, 0.10, grid)\n",
    "    est = []\n",
    "    for t in u:\n",
    "        if side == \"upper\":\n",
    "            est.append(np.mean((U[:,0] > t) & (U[:,1] > t)) / (1 - t))\n",
    "        else:\n",
    "            est.append(np.mean((U[:,0] < t) & (U[:,1] < t)) / (t))\n",
    "    return u, np.array(est)\n"
   ]
  },
  {
   "cell_type": "markdown",
   "id": "83d4849c",
   "metadata": {},
   "source": [
    "## 2. Chapter 1 — Simulation of Random Variates from Copulas"
   ]
  },
  {
   "cell_type": "markdown",
   "id": "fb32bcb3",
   "metadata": {},
   "source": [
    "Visual diagnostics for common families and empirical tail dependence."
   ]
  },
  {
   "cell_type": "code",
   "execution_count": 2,
   "id": "a8fac076",
   "metadata": {},
   "outputs": [],
   "source": [
    "\n",
    "families = [\n",
    "    (\"Gaussian ρ=0.7\", lambda n, s: sample_gaussian_copula(n, rho=0.7, seed=s)),\n",
    "    (\"t ν=4, ρ=0.7\",   lambda n, s: sample_t_copula(n, rho=0.7, nu=4, seed=s)),\n",
    "    (\"Clayton θ=2\",    lambda n, s: sample_clayton_copula(n, theta=2.0, seed=s)),\n",
    "    (\"Gumbel θ=1.6\",   lambda n, s: sample_gumbel_copula(n, theta=1.6, seed=s)),\n",
    "    (\"Frank θ=8\",      lambda n, s: sample_frank_copula(n, theta=8.0, seed=s)),\n",
    "]\n",
    "n = 4000\n",
    "plt.figure(figsize=(14, 2.6))\n",
    "for i, (name, sampler) in enumerate(families, start=1):\n",
    "    U = sampler(n, 123+i)\n",
    "    ax = plt.subplot(1, 5, i)\n",
    "    ax.scatter(U[:,0], U[:,1], s=2, alpha=0.5)\n",
    "    ax.set_title(name, fontsize=10)\n",
    "    ax.set_xlim(0,1); ax.set_ylim(0,1)\n",
    "    ax.grid(True, linewidth=0.3, alpha=0.4)\n",
    "savefig(FIG_DIR / \"copula_sim_samples.svg\", format=\"svg\")\n"
   ]
  },
  {
   "cell_type": "code",
   "execution_count": 3,
   "id": "622ac77d",
   "metadata": {},
   "outputs": [],
   "source": [
    "\n",
    "rhos = [0.5, 0.7, 0.9]; nu = 4\n",
    "plt.figure(figsize=(6,4))\n",
    "for rho in rhos:\n",
    "    U = sample_t_copula(n=80_000, rho=rho, nu=nu, seed=42)\n",
    "    grid_u, emp = empirical_tail_dependence(U, side=\"upper\", grid=40)\n",
    "    theo = 2.0 * student_t.cdf(-np.sqrt((nu+1.0)*(1.0-rho)/(1.0+rho)), df=nu+1.0)\n",
    "    plt.plot(grid_u, emp, label=f\"empirical ρ={rho:.1f}\")\n",
    "    plt.hlines(theo, grid_u.min(), grid_u.max(), linestyles=\"dashed\")\n",
    "plt.xlabel(\"u\"); plt.ylabel(r\"Upper tail $\\lambda_U$ estimate\")\n",
    "plt.title(f\"t-copula tail dependence (ν={nu})\")\n",
    "plt.legend(frameon=False); plt.grid(True, linewidth=0.5, alpha=0.5)\n",
    "savefig(FIG_DIR / \"copula_sim_tail_check.svg\", format=\"svg\")\n"
   ]
  },
  {
   "cell_type": "code",
   "execution_count": 4,
   "id": "aa69fb65",
   "metadata": {},
   "outputs": [],
   "source": [
    "\n",
    "plt.figure(figsize=(8, 2.8)); plt.axis(\"off\")\n",
    "texts = [\n",
    "    (\"Latent base draw\\n(Z, W, ...)\", 0.05, 0.5),\n",
    "    (\"Copula transform\\n(Gaussian / t / Archimedean)\", 0.36, 0.5),\n",
    "    (\"Uniforms U∈[0,1]^d\", 0.67, 0.5),\n",
    "    (\"Marginal inverse\\nX_i = F_i^{-1}(U_i)\", 0.90, 0.5),\n",
    "]\n",
    "for txt, x, y in texts:\n",
    "    plt.text(x, y, txt, ha=\"center\", va=\"center\", fontsize=11,\n",
    "             bbox=dict(boxstyle=\"round,pad=0.4\", ec=\"black\"))\n",
    "plt.annotate(\"\", xy=(0.26, 0.5), xytext=(0.14, 0.5), arrowprops=dict(arrowstyle=\"->\", lw=1.5))\n",
    "plt.annotate(\"\", xy=(0.56, 0.5), xytext=(0.46, 0.5), arrowprops=dict(arrowstyle=\"->\", lw=1.5))\n",
    "plt.annotate(\"\", xy=(0.82, 0.5), xytext=(0.74, 0.5), arrowprops=dict(arrowstyle=\"->\", lw=1.5))\n",
    "savefig(FIG_DIR / \"copula_sim_pipeline.svg\", format=\"svg\")\n"
   ]
  },
  {
   "cell_type": "markdown",
   "id": "f3d7203a",
   "metadata": {},
   "source": [
    "## 3. Chapter 2 — Reproducibility, Seeds, and Validation"
   ]
  },
  {
   "cell_type": "code",
   "execution_count": 5,
   "id": "e29dfb5e",
   "metadata": {},
   "outputs": [
    {
     "name": "stdout",
     "output_type": "stream",
     "text": [
      "Kolmogorov distance (U1[:,0] vs U3[:,0]): 0.04489550247508811\n"
     ]
    }
   ],
   "source": [
    "\n",
    "U1 = sample_gaussian_copula(n=1000, rho=0.65, seed=2025)\n",
    "U2 = sample_gaussian_copula(n=1000, rho=0.65, seed=2025)\n",
    "assert np.allclose(U1, U2), \"Same seed should reproduce identical uniforms\"\n",
    "U3 = sample_gaussian_copula(n=1000, rho=0.65, seed=7)\n",
    "print(\"Kolmogorov distance (U1[:,0] vs U3[:,0]):\", np.max(np.abs(np.sort(U1[:,0]) - np.sort(U3[:,0]))))\n"
   ]
  },
  {
   "cell_type": "code",
   "execution_count": 6,
   "id": "0bc65916",
   "metadata": {},
   "outputs": [],
   "source": [
    "\n",
    "plt.figure(figsize=(10, 2.8)); plt.axis(\"off\")\n",
    "nodes = [\n",
    "    (\"Seed init\", 0.08, 0.5),\n",
    "    (\"Sampling\", 0.25, 0.5),\n",
    "    (\"Estimation\", 0.42, 0.5),\n",
    "    (\"Validation\", 0.59, 0.5),\n",
    "    (\"Logging/Metadata\", 0.78, 0.5),\n",
    "    (\"Re-run\\n(same seed)\", 0.92, 0.5),\n",
    "]\n",
    "for txt, x, y in nodes:\n",
    "    plt.text(x, y, txt, ha=\"center\", va=\"center\", fontsize=11,\n",
    "             bbox=dict(boxstyle=\"round,pad=0.35\", ec=\"black\"))\n",
    "for i in range(len(nodes)-1):\n",
    "    x0 = nodes[i][1] + 0.06\n",
    "    x1 = nodes[i+1][1] - 0.06\n",
    "    plt.annotate(\"\", xy=(x1, 0.5), xytext=(x0, 0.5), arrowprops=dict(arrowstyle=\"->\", lw=1.5))\n",
    "savefig(FIG_DIR / \"reproducibility_pipeline.svg\", format=\"svg\")\n"
   ]
  }
 ],
 "metadata": {
  "kernelspec": {
   "display_name": "venv (3.13.5)",
   "language": "python",
   "name": "python3"
  },
  "language_info": {
   "codemirror_mode": {
    "name": "ipython",
    "version": 3
   },
   "file_extension": ".py",
   "mimetype": "text/x-python",
   "name": "python",
   "nbconvert_exporter": "python",
   "pygments_lexer": "ipython3",
   "version": "3.13.5"
  }
 },
 "nbformat": 4,
 "nbformat_minor": 5
}
